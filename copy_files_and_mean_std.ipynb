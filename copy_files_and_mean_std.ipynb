{
 "cells": [
  {
   "cell_type": "code",
   "execution_count": 1,
   "metadata": {},
   "outputs": [],
   "source": [
    "import shutil, os\n",
    "import numpy as np\n",
    "import cv2"
   ]
  },
  {
   "cell_type": "code",
   "execution_count": 1,
   "metadata": {},
   "outputs": [],
   "source": [
    "image_path = '/mnt/hdd/bowen/lisa/cabin_2.0/lisat_gaze_data/lisat_training_files_v4/train_v4_all'\n",
    "label_path = '/mnt/hdd/bowen/lisa/cabin_2.0/lisat_gaze_data/lisat_training_files_v4/train_v4_all.txt'\n",
    "new_data_path = '/mnt/hdd/bowen/data_folder/lisa_t_data/gaze_data_v4/'"
   ]
  },
  {
   "cell_type": "code",
   "execution_count": 5,
   "metadata": {},
   "outputs": [
    {
     "name": "stdout",
     "output_type": "stream",
     "text": [
      "gaze0.jpg 8\n",
      "\n"
     ]
    }
   ],
   "source": [
    "label = open(label_path,\"r+\") \n",
    "lines = label.readlines()\n",
    "print(lines[0])"
   ]
  },
  {
   "cell_type": "markdown",
   "metadata": {},
   "source": [
    "## Moving folder"
   ]
  },
  {
   "cell_type": "code",
   "execution_count": 33,
   "metadata": {},
   "outputs": [],
   "source": [
    "# i is a signle image number\n",
    "for single_img in lines:\n",
    "    single_img = single_img.split()\n",
    "    img_name = single_img[0]\n",
    "    img_label = single_img[1]\n",
    "    # move image to folder\n",
    "    shutil.copy(image_path+'/'+img_name, new_data_path + '/' + str(img_label))"
   ]
  },
  {
   "cell_type": "code",
   "execution_count": null,
   "metadata": {},
   "outputs": [],
   "source": [
    "image_path = '/mnt/hdd/bowen/lisa/cabin_2.0/lisat_gaze_data/lisat_training_files_v4/train_v4_all'\n"
   ]
  },
  {
   "cell_type": "markdown",
   "metadata": {},
   "source": [
    "## calculate mean and standart devation of the data set (no glasses and glassea seperately)"
   ]
  },
  {
   "cell_type": "code",
   "execution_count": 3,
   "metadata": {},
   "outputs": [],
   "source": [
    "no_glasses_data_folder = '/mnt/hdd/bowen/data_folder/lisa_t_data/gaze_data_v4/images/no_glasses/'\n",
    "with_glasses_data_folder = '/mnt/hdd/bowen/data_folder/lisa_t_data/gaze_data_v4/images/with_glasses/'"
   ]
  },
  {
   "cell_type": "code",
   "execution_count": 17,
   "metadata": {},
   "outputs": [
    {
     "data": {
      "text/plain": [
       "'images'"
      ]
     },
     "execution_count": 17,
     "metadata": {},
     "output_type": "execute_result"
    }
   ],
   "source": [
    "os.path.dirname('./')\n",
    "os.path.basename(os.getcwd())"
   ]
  },
  {
   "cell_type": "code",
   "execution_count": 13,
   "metadata": {},
   "outputs": [
    {
     "data": {
      "text/plain": [
       "'/mnt/hdd/bowen/data_folder/lisa_t_data/gaze_data_v4/images'"
      ]
     },
     "execution_count": 13,
     "metadata": {},
     "output_type": "execute_result"
    }
   ],
   "source": [
    "os.chdir('/mnt/hdd/bowen/data_folder/lisa_t_data/gaze_data_v4/images')\n",
    "os.getcwd()"
   ]
  },
  {
   "cell_type": "code",
   "execution_count": 16,
   "metadata": {},
   "outputs": [
    {
     "data": {
      "text/plain": [
       "'/mnt/hdd/bowen/data_folder/lisa_t_data/gaze_data_v4'"
      ]
     },
     "execution_count": 16,
     "metadata": {},
     "output_type": "execute_result"
    }
   ],
   "source": [
    "os.path.dirname(os.getcwd())"
   ]
  },
  {
   "cell_type": "code",
   "execution_count": 74,
   "metadata": {},
   "outputs": [
    {
     "data": {
      "text/plain": [
       "('/mnt/hdd/bowen/data_folder/lisa_t_data/gaze_data_v4/images/no_glasses/',\n",
       " ['2', '1', '8', '4', '6', '5', '7', '0', '3'],\n",
       " [])"
      ]
     },
     "execution_count": 74,
     "metadata": {},
     "output_type": "execute_result"
    }
   ],
   "source": [
    "all_files = [i for i in os.walk(no_glasses_data_folder)]\n",
    "all_files[0]\n"
   ]
  },
  {
   "cell_type": "code",
   "execution_count": 9,
   "metadata": {},
   "outputs": [],
   "source": [
    "folder_1 = \"/mnt/hdd/bowen/data_folder/lisa_t_data/image_data/lisat_img_data_v5/for_training/no_glasses_day/\"\n",
    "folder_2 = \"/mnt/hdd/bowen/data_folder/lisa_t_data/image_data/lisat_img_data_v5/for_training/no_glasses_night/\"\n",
    "folder_3 = \"/mnt/hdd/bowen/data_folder/lisa_t_data/image_data/lisat_img_data_v5/for_training/with_glasses_day/\"\n",
    "folder_4 = \"/mnt/hdd/bowen/data_folder/lisa_t_data/image_data/lisat_img_data_v5/for_training/with_glasses_night/\""
   ]
  },
  {
   "cell_type": "code",
   "execution_count": 16,
   "metadata": {},
   "outputs": [
    {
     "name": "stdout",
     "output_type": "stream",
     "text": [
      "current dir: /mnt/hdd/bowen/data_folder/lisa_t_data/image_data/lisat_img_data_v5/for_training/with_glasses_night/Forward\n",
      "current dir: /mnt/hdd/bowen/data_folder/lisa_t_data/image_data/lisat_img_data_v5/for_training/with_glasses_night/Left Mirror\n",
      "current dir: /mnt/hdd/bowen/data_folder/lisa_t_data/image_data/lisat_img_data_v5/for_training/with_glasses_night/Rearview\n",
      "current dir: /mnt/hdd/bowen/data_folder/lisa_t_data/image_data/lisat_img_data_v5/for_training/with_glasses_night/Eyes Closed\n",
      "current dir: /mnt/hdd/bowen/data_folder/lisa_t_data/image_data/lisat_img_data_v5/for_training/with_glasses_night/Radio\n",
      "current dir: /mnt/hdd/bowen/data_folder/lisa_t_data/image_data/lisat_img_data_v5/for_training/with_glasses_night/Right Mirror\n",
      "current dir: /mnt/hdd/bowen/data_folder/lisa_t_data/image_data/lisat_img_data_v5/for_training/with_glasses_night/Speedometer\n",
      "current dir: /mnt/hdd/bowen/data_folder/lisa_t_data/image_data/lisat_img_data_v5/for_training/with_glasses_night/Lap\n",
      "current dir: /mnt/hdd/bowen/data_folder/lisa_t_data/image_data/lisat_img_data_v5/for_training/with_glasses_night/Shoulder\n",
      "no_glasses_mean_total: [0, 0, 0]\n",
      "no_glasses_std_total: [0, 0, 0]\n",
      "no_glasses_img_count: 27083\n",
      "no_glasses_mean [0. 0. 0.]\n",
      "no_glasses_std [0. 0. 0.]\n"
     ]
    }
   ],
   "source": [
    "all_files = [i for i in os.walk(folder_4)]\n",
    "no_glasses_mean_total = [0,0,0]\n",
    "no_glasses_std_total = [0,0,0]\n",
    "no_glasses_img_count = 0\n",
    "for i in range(1, len(all_files)):\n",
    "    # folder path\n",
    "    one_folder_path = all_files[i][0]\n",
    "    os.chdir(one_folder_path)\n",
    "    print(f'current dir: {os.getcwd()}')\n",
    "    #image names\n",
    "    for one_img in all_files[i][2]:\n",
    "        no_glasses_img_count += 1 \n",
    "        #img = cv2.imread(one_img)\n",
    "        #img_mean = np.mean(img, axis=tuple(range(img.ndim-1)))\n",
    "        #img_std = np.std(img, axis=tuple(range(img.ndim-1)))\n",
    "        #no_glasszes_mean_total += img_mean\n",
    "        #no_glasses_std_total += img_std\n",
    "print(f\"no_glasses_mean_total: {no_glasses_mean_total}\")\n",
    "print(f\"no_glasses_std_total: {no_glasses_std_total}\")\n",
    "print(f\"no_glasses_img_count: {no_glasses_img_count}\")\n",
    "no_glasses_mean = np.array(no_glasses_mean_total)/no_glasses_img_count\n",
    "no_glasses_std = np.array(no_glasses_std_total)/no_glasses_img_count\n",
    "print(f\"no_glasses_mean {no_glasses_mean}\")\n",
    "print(f\"no_glasses_std {no_glasses_std}\")"
   ]
  },
  {
   "cell_type": "code",
   "execution_count": 141,
   "metadata": {},
   "outputs": [
    {
     "name": "stdout",
     "output_type": "stream",
     "text": [
      "current dir: /mnt/hdd/bowen/data_folder/lisa_t_data/gaze_data_v4/images/with_glasses/2\n",
      "current dir: /mnt/hdd/bowen/data_folder/lisa_t_data/gaze_data_v4/images/with_glasses/1\n",
      "current dir: /mnt/hdd/bowen/data_folder/lisa_t_data/gaze_data_v4/images/with_glasses/8\n",
      "current dir: /mnt/hdd/bowen/data_folder/lisa_t_data/gaze_data_v4/images/with_glasses/4\n",
      "current dir: /mnt/hdd/bowen/data_folder/lisa_t_data/gaze_data_v4/images/with_glasses/6\n",
      "current dir: /mnt/hdd/bowen/data_folder/lisa_t_data/gaze_data_v4/images/with_glasses/5\n",
      "current dir: /mnt/hdd/bowen/data_folder/lisa_t_data/gaze_data_v4/images/with_glasses/7\n",
      "current dir: /mnt/hdd/bowen/data_folder/lisa_t_data/gaze_data_v4/images/with_glasses/0\n",
      "current dir: /mnt/hdd/bowen/data_folder/lisa_t_data/gaze_data_v4/images/with_glasses/3\n",
      "with_glasses_mean_total: [5972906.05202895 5972906.05202895 5972906.05202895]\n",
      "with_glasses_std_total: [3437535.0722044 3437535.0722044 3437535.0722044]\n",
      "with_glasses_img_count: 55668\n"
     ]
    }
   ],
   "source": [
    "all_files = [i for i in os.walk(with_glasses_data_folder)]\n",
    "# with_glasses_mean_total = [0,0,0]\n",
    "# with_glasses_std_total = [0,0,0]\n",
    "with_glasses_img_count = 0\n",
    "for i in range(1, len(all_files)):\n",
    "    # folder path\n",
    "    one_folder_path = all_files[i][0]\n",
    "    os.chdir(one_folder_path)\n",
    "    print(f'current dir: {os.getcwd()}')\n",
    "    #image names\n",
    "    for one_img in all_files[i][2]:\n",
    "        with_glasses_img_count += 1 \n",
    "        img = cv2.imread(one_img)\n",
    "        img_mean = np.mean(img, axis=tuple(range(img.ndim-1)))\n",
    "        img_std = np.std(img, axis=tuple(range(img.ndim-1)))\n",
    "        with_glasses_mean_total += img_mean\n",
    "        with_glasses_std_total += img_std\n",
    "print(f\"with_glasses_mean_total: {with_glasses_mean_total}\")\n",
    "print(f\"with_glasses_std_total: {with_glasses_std_total}\")\n",
    "print(f\"with_glasses_img_count: {with_glasses_img_count}\")"
   ]
  },
  {
   "cell_type": "code",
   "execution_count": 8,
   "metadata": {},
   "outputs": [
    {
     "name": "stdout",
     "output_type": "stream",
     "text": [
      "no_glasses_mean [120.79620082 120.79620082 120.79620082]\n",
      "no_glasses_std [69.41133909 69.41133909 69.41133909]\n"
     ]
    }
   ],
   "source": [
    "no_glasses_mean = np.array(no_glasses_mean_total)/no_glasses_img_count\n",
    "no_glasses_std = np.array(no_glasses_std_total)/no_glasses_img_count\n",
    "print(f\"no_glasses_mean {no_glasses_mean}\")\n",
    "print(f\"no_glasses_std {no_glasses_std}\")"
   ]
  },
  {
   "cell_type": "code",
   "execution_count": 146,
   "metadata": {},
   "outputs": [
    {
     "name": "stdout",
     "output_type": "stream",
     "text": [
      "with_glasses_mean [107.29514357 107.29514357 107.29514357]\n",
      "with_glasses_std [61.75064799 61.75064799 61.75064799]\n"
     ]
    }
   ],
   "source": [
    "with_glasses_mean = np.array(with_glasses_mean_total)/with_glasses_img_count\n",
    "with_glasses_std = np.array(with_glasses_std_total)/with_glasses_img_count\n",
    "print(f\"with_glasses_mean {with_glasses_mean}\")\n",
    "print(f\"with_glasses_std {with_glasses_std}\")"
   ]
  },
  {
   "cell_type": "code",
   "execution_count": 128,
   "metadata": {},
   "outputs": [],
   "source": [
    "img = cv2.imread(one_img)\n",
    "img_mean = np.mean(img, axis=tuple(range(a.ndim-1)))\n",
    "img_std = np.std(img, axis=tuple(range(a.ndim-1)))"
   ]
  },
  {
   "cell_type": "code",
   "execution_count": 149,
   "metadata": {},
   "outputs": [
    {
     "name": "stdout",
     "output_type": "stream",
     "text": [
      "total_mean [101.61805013 101.61805013 101.61805013]\n",
      "total_std [60.00814059 60.00814059 60.00814059]\n",
      "total_img_count 130397\n"
     ]
    }
   ],
   "source": [
    "total_mean = (np.array(no_glasses_mean_total) + np.array(with_glasses_mean_total))/(no_glasses_img_count+with_glasses_img_count)\n",
    "print(f\"total_mean {total_mean}\")\n",
    "total_std = (np.array(no_glasses_std_total) + np.array(with_glasses_std_total))/(no_glasses_img_count+with_glasses_img_count)\n",
    "print(f\"total_std {total_std}\")\n",
    "total_img_count = with_glasses_img_count + no_glasses_img_count\n",
    "print(f\"total_img_count {total_img_count}\")\n"
   ]
  },
  {
   "cell_type": "code",
   "execution_count": 148,
   "metadata": {},
   "outputs": [
    {
     "data": {
      "text/plain": [
       "array([101.61805013, 101.61805013, 101.61805013])"
      ]
     },
     "execution_count": 148,
     "metadata": {},
     "output_type": "execute_result"
    }
   ],
   "source": [
    "total_mean"
   ]
  },
  {
   "cell_type": "code",
   "execution_count": null,
   "metadata": {},
   "outputs": [],
   "source": []
  }
 ],
 "metadata": {
  "kernelspec": {
   "display_name": "Python 3.7 (torch)",
   "language": "python",
   "name": "torch"
  },
  "language_info": {
   "codemirror_mode": {
    "name": "ipython",
    "version": 3
   },
   "file_extension": ".py",
   "mimetype": "text/x-python",
   "name": "python",
   "nbconvert_exporter": "python",
   "pygments_lexer": "ipython3",
   "version": "3.7.4"
  }
 },
 "nbformat": 4,
 "nbformat_minor": 2
}
