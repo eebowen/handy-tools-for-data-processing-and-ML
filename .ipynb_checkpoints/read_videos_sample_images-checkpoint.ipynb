{
 "cells": [
  {
   "cell_type": "code",
   "execution_count": 58,
   "metadata": {},
   "outputs": [],
   "source": [
    "# read video, rotate 180, and sample images\n",
    "import os\n",
    "from glob import glob \n",
    "import shutil\n",
    "import cv2\n",
    "import numpy as np\n",
    "import time"
   ]
  },
  {
   "cell_type": "code",
   "execution_count": 11,
   "metadata": {},
   "outputs": [],
   "source": [
    "foot_video_root = '/mnt/cvrr-nas/WorkArea3/WorkArea3_NoBackup/Userarea/bowen/lisat_foot_data/raw_videos/'\n",
    "foot_image_root = '/mnt/cvrr-nas/WorkArea3/WorkArea3_NoBackup/Userarea/bowen/lisat_foot_data/raw_images/'"
   ]
  },
  {
   "cell_type": "code",
   "execution_count": 14,
   "metadata": {},
   "outputs": [],
   "source": [
    "classes = os.listdir(foot_video_root)"
   ]
  },
  {
   "cell_type": "code",
   "execution_count": null,
   "metadata": {
    "scrolled": true
   },
   "outputs": [
    {
     "name": "stdout",
     "output_type": "stream",
     "text": [
      "/mnt/cvrr-nas/WorkArea3/WorkArea3_NoBackup/Userarea/bowen/lisat_foot_data/raw_videos/On Brake\n",
      "/mnt/cvrr-nas/WorkArea3/WorkArea3_NoBackup/Userarea/bowen/lisat_foot_data/raw_images/On Brake\n",
      "/mnt/cvrr-nas/WorkArea3/WorkArea3_NoBackup/Userarea/bowen/lisat_foot_data/raw_videos/On Brake/3D_L8598.MP4\n",
      "527\n",
      "all_mean_total [ 9432.42763202  9543.73083514 10268.5656731 ]\n",
      "all_std_total [ 8589.47442607  9786.64805431 10616.07855817]\n",
      "/mnt/cvrr-nas/WorkArea3/WorkArea3_NoBackup/Userarea/bowen/lisat_foot_data/raw_videos/On Brake/3D_L8522.MP4\n",
      "636\n",
      "all_mean_total [24995.10204391 24870.44383753 25850.31332284]\n",
      "all_std_total [18486.15137424 19947.21931492 20766.61840343]\n",
      "/mnt/cvrr-nas/WorkArea3/WorkArea3_NoBackup/Userarea/bowen/lisat_foot_data/raw_videos/On Brake/3D_L8553.MP4\n",
      "800\n",
      "all_mean_total [43072.24152416 42763.22311089 44017.07476816]\n",
      "all_std_total [28864.40243841 30698.76389558 31290.74721539]\n",
      "/mnt/cvrr-nas/WorkArea3/WorkArea3_NoBackup/Userarea/bowen/lisat_foot_data/raw_videos/On Brake/3D_L8548.MP4\n",
      "633\n"
     ]
    }
   ],
   "source": [
    "all_mean_total = [0,0,0]\n",
    "all_std_total = [0,0,0]\n",
    "img_count = 0\n",
    "sample_rate = 3 # pick one image in every 15 images\n",
    "w = 1920\n",
    "h = 1440\n",
    "for one_class in classes:\n",
    "    one_class_video_root = os.path.join(foot_video_root,one_class)\n",
    "    print(one_class_video_root)\n",
    "    one_class_image_root = os.path.join(foot_image_root,one_class)\n",
    "    print(one_class_image_root)\n",
    "    image_name = 0\n",
    "    for one_video_path in glob(one_class_video_root+'/*'):\n",
    "        print(one_video_path)\n",
    "        cap = cv2.VideoCapture(one_video_path)\n",
    "        frame_count = 0\n",
    "        total_frame = int(cap.get(cv2.CAP_PROP_FRAME_COUNT))\n",
    "        print(total_frame)\n",
    "        ret, frame = cap.read()\n",
    "#         h,w,_ = frame.shape\n",
    "        \n",
    "        rotated180 = (w / 2, h / 2)\n",
    "        while(cap.isOpened()):\n",
    "            ret, frame = cap.read()\n",
    "            frame_count += 1\n",
    "            if ret:\n",
    "                if frame_count % sample_rate == 0:\n",
    "                    M = cv2.getRotationMatrix2D(center, 180, 1.0)\n",
    "                    rotated180 = cv2.warpAffine(frame, M, (w, h))\n",
    "#                     cv2.imshow('frame',rotated180)\n",
    "                    file_name = str(image_name) + '.jpg'\n",
    "                    file_path = os.path.join(one_class_image_root, file_name)\n",
    "                    cv2.imwrite(file_path, rotated180)\n",
    "                    # mean and std\n",
    "                    img_mean = np.mean(rotated180, axis=tuple(range(rotated180.ndim-1)))\n",
    "                    all_mean_total += img_mean\n",
    "                    img_std = np.std(rotated180, axis=tuple(range(rotated180.ndim-1)))\n",
    "                    all_std_total += img_std\n",
    "                    image_name += 1\n",
    "                    img_count += 1\n",
    "                if cv2.waitKey(1) & 0xFF == ord('q'):\n",
    "                    break\n",
    "            if frame_count == total_frame:\n",
    "                break\n",
    "\n",
    "        cap.release()\n",
    "        print('all_mean_total', all_mean_total)\n",
    "        print('all_std_total',all_std_total)\n",
    "        print(img_count)\n",
    "#         cv2.destroyAllWindows()\n",
    "mean = all_mean_total / img_count\n",
    "std = all_std_total / img_count\n",
    "print(mean)\n",
    "print(std)"
   ]
  },
  {
   "cell_type": "code",
   "execution_count": null,
   "metadata": {},
   "outputs": [],
   "source": [
    "import cv2 \n",
    "import numpy as np \n",
    "   \n",
    "# Create a VideoCapture object and read from input file \n",
    "cap = cv2.VideoCapture('/mnt/cvrr-nas/WorkArea3/WorkArea3_NoBackup/Userarea/bowen/lisat_foot_data/raw_videos/On Brake/3D_L8598.MP4') \n",
    "   \n",
    "# Check if camera opened successfully \n",
    "if (cap.isOpened()== False):  \n",
    "  print(\"Error opening video  file\") \n",
    "   \n",
    "# Read until video is completed \n",
    "while(cap.isOpened()): \n",
    "      \n",
    "  # Capture frame-by-frame \n",
    "  ret, frame = cap.read() \n",
    "  if not ret:\n",
    "    print('wrong')\n",
    "  if ret == True: \n",
    "   \n",
    "    # Display the resulting frame \n",
    "    cv2.imshow('Frame', frame) \n",
    "   \n",
    "    # Press Q on keyboard to  exit \n",
    "    if cv2.waitKey(25) & 0xFF == ord('q'): \n",
    "      break\n",
    "   \n",
    "  # Break the loop \n",
    "   \n",
    "# When everything done, release  \n",
    "# the video capture object \n",
    "cap.release() \n",
    "   \n",
    "# Closes all the frames \n",
    "cv2.destroyAllWindows() "
   ]
  },
  {
   "cell_type": "code",
   "execution_count": 21,
   "metadata": {},
   "outputs": [
    {
     "data": {
      "text/plain": [
       "['/mnt/cvrr-nas/WorkArea3/WorkArea3_NoBackup/Userarea/bowen/lisat_foot_data/raw_videos/Away from pedals/3D_L8611.MP4',\n",
       " '/mnt/cvrr-nas/WorkArea3/WorkArea3_NoBackup/Userarea/bowen/lisat_foot_data/raw_videos/Away from pedals/3D_L8581.MP4',\n",
       " '/mnt/cvrr-nas/WorkArea3/WorkArea3_NoBackup/Userarea/bowen/lisat_foot_data/raw_videos/Away from pedals/3D_L8637.MP4',\n",
       " '/mnt/cvrr-nas/WorkArea3/WorkArea3_NoBackup/Userarea/bowen/lisat_foot_data/raw_videos/Away from pedals/3D_L8586.MP4',\n",
       " '/mnt/cvrr-nas/WorkArea3/WorkArea3_NoBackup/Userarea/bowen/lisat_foot_data/raw_videos/Away from pedals/3D_L8561.MP4',\n",
       " '/mnt/cvrr-nas/WorkArea3/WorkArea3_NoBackup/Userarea/bowen/lisat_foot_data/raw_videos/Away from pedals/3D_L8571.MP4',\n",
       " '/mnt/cvrr-nas/WorkArea3/WorkArea3_NoBackup/Userarea/bowen/lisat_foot_data/raw_videos/Away from pedals/3D_L8591.MP4',\n",
       " '/mnt/cvrr-nas/WorkArea3/WorkArea3_NoBackup/Userarea/bowen/lisat_foot_data/raw_videos/Away from pedals/3D_L8551.MP4',\n",
       " '/mnt/cvrr-nas/WorkArea3/WorkArea3_NoBackup/Userarea/bowen/lisat_foot_data/raw_videos/Away from pedals/3D_L8667.MP4',\n",
       " '/mnt/cvrr-nas/WorkArea3/WorkArea3_NoBackup/Userarea/bowen/lisat_foot_data/raw_videos/Away from pedals/3D_L8606.MP4',\n",
       " '/mnt/cvrr-nas/WorkArea3/WorkArea3_NoBackup/Userarea/bowen/lisat_foot_data/raw_videos/Away from pedals/3D_L8546.MP4',\n",
       " '/mnt/cvrr-nas/WorkArea3/WorkArea3_NoBackup/Userarea/bowen/lisat_foot_data/raw_videos/Away from pedals/3D_L8616.MP4',\n",
       " '/mnt/cvrr-nas/WorkArea3/WorkArea3_NoBackup/Userarea/bowen/lisat_foot_data/raw_videos/Away from pedals/3D_L8556.MP4',\n",
       " '/mnt/cvrr-nas/WorkArea3/WorkArea3_NoBackup/Userarea/bowen/lisat_foot_data/raw_videos/Away from pedals/3D_L8540.MP4',\n",
       " '/mnt/cvrr-nas/WorkArea3/WorkArea3_NoBackup/Userarea/bowen/lisat_foot_data/raw_videos/Away from pedals/3D_L8520.MP4',\n",
       " '/mnt/cvrr-nas/WorkArea3/WorkArea3_NoBackup/Userarea/bowen/lisat_foot_data/raw_videos/Away from pedals/3D_L8662.MP4',\n",
       " '/mnt/cvrr-nas/WorkArea3/WorkArea3_NoBackup/Userarea/bowen/lisat_foot_data/raw_videos/Away from pedals/3D_L8622.MP4',\n",
       " '/mnt/cvrr-nas/WorkArea3/WorkArea3_NoBackup/Userarea/bowen/lisat_foot_data/raw_videos/Away from pedals/3D_L8576.MP4',\n",
       " '/mnt/cvrr-nas/WorkArea3/WorkArea3_NoBackup/Userarea/bowen/lisat_foot_data/raw_videos/Away from pedals/3D_L8627.MP4',\n",
       " '/mnt/cvrr-nas/WorkArea3/WorkArea3_NoBackup/Userarea/bowen/lisat_foot_data/raw_videos/Away from pedals/3D_L8632.MP4',\n",
       " '/mnt/cvrr-nas/WorkArea3/WorkArea3_NoBackup/Userarea/bowen/lisat_foot_data/raw_videos/Away from pedals/3D_L8566.MP4',\n",
       " '/mnt/cvrr-nas/WorkArea3/WorkArea3_NoBackup/Userarea/bowen/lisat_foot_data/raw_videos/Away from pedals/3D_L8525.MP4',\n",
       " '/mnt/cvrr-nas/WorkArea3/WorkArea3_NoBackup/Userarea/bowen/lisat_foot_data/raw_videos/Away from pedals/3D_L8652.MP4',\n",
       " '/mnt/cvrr-nas/WorkArea3/WorkArea3_NoBackup/Userarea/bowen/lisat_foot_data/raw_videos/Away from pedals/3D_L8596.MP4',\n",
       " '/mnt/cvrr-nas/WorkArea3/WorkArea3_NoBackup/Userarea/bowen/lisat_foot_data/raw_videos/Away from pedals/3D_L8647.MP4',\n",
       " '/mnt/cvrr-nas/WorkArea3/WorkArea3_NoBackup/Userarea/bowen/lisat_foot_data/raw_videos/Away from pedals/3D_L8601.MP4',\n",
       " '/mnt/cvrr-nas/WorkArea3/WorkArea3_NoBackup/Userarea/bowen/lisat_foot_data/raw_videos/Away from pedals/3D_L8530.MP4',\n",
       " '/mnt/cvrr-nas/WorkArea3/WorkArea3_NoBackup/Userarea/bowen/lisat_foot_data/raw_videos/Away from pedals/3D_L8535.MP4',\n",
       " '/mnt/cvrr-nas/WorkArea3/WorkArea3_NoBackup/Userarea/bowen/lisat_foot_data/raw_videos/Away from pedals/3D_L8642.MP4',\n",
       " '/mnt/cvrr-nas/WorkArea3/WorkArea3_NoBackup/Userarea/bowen/lisat_foot_data/raw_videos/Away from pedals/3D_L8515.MP4',\n",
       " '/mnt/cvrr-nas/WorkArea3/WorkArea3_NoBackup/Userarea/bowen/lisat_foot_data/raw_videos/Away from pedals/3D_L8657.MP4']"
      ]
     },
     "execution_count": 21,
     "metadata": {},
     "output_type": "execute_result"
    }
   ],
   "source": [
    "glob(one_class_video_root+'/*')"
   ]
  },
  {
   "cell_type": "code",
   "execution_count": null,
   "metadata": {},
   "outputs": [],
   "source": []
  }
 ],
 "metadata": {
  "kernelspec": {
   "display_name": "Python 3",
   "language": "python",
   "name": "python3"
  },
  "language_info": {
   "codemirror_mode": {
    "name": "ipython",
    "version": 3
   },
   "file_extension": ".py",
   "mimetype": "text/x-python",
   "name": "python",
   "nbconvert_exporter": "python",
   "pygments_lexer": "ipython3",
   "version": "3.7.3"
  }
 },
 "nbformat": 4,
 "nbformat_minor": 2
}
