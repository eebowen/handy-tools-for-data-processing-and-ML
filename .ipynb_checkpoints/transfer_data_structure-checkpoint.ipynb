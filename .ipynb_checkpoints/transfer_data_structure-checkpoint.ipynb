{
 "cells": [
  {
   "cell_type": "markdown",
   "metadata": {},
   "source": [
    "### From\n",
    "├── bingze  \n",
    "│   ├── no_day  \n",
    "│   │   ├── eyes_closed_no_day   \n",
    "│   │   ├── forward_no_day  \n",
    "│   │   ├── lap_no_day  \n",
    "│   │   ├── left_mirror_no_day  \n",
    "│   │   ├── left_shoulder_no_day  \n",
    "│   │   ├── radio_no_day  \n",
    "│   │   ├── rearview_no_day  \n",
    "│   │   ├── right_mirror_no_day  \n",
    "│   │   ├── right_shoulder_no_day  \n",
    "│   │   └── speedometer_no_day  "
   ]
  },
  {
   "cell_type": "markdown",
   "metadata": {},
   "source": [
    "### To\n",
    "├── no_day  \n",
    "│   │── eyes_closed_no_day   \n",
    "│   │── forward_no_day  \n",
    "│   │── lap_no_day  \n",
    "│   │── left_mirror_no_day  \n",
    "│   │── left_shoulder_no_day  \n",
    "│   │── radio_no_day  \n",
    "│   │── rearview_no_day  \n",
    "│   │── right_mirror_no_day  \n",
    "│   │── right_shoulder_no_day  \n",
    "│   │── speedometer_no_day  "
   ]
  },
  {
   "cell_type": "markdown",
   "metadata": {},
   "source": [
    "cd formatted_data  \n",
    "mkdir no_day no_night with_day with_night  \n",
    "cd no_day   \n",
    "mkdir Shoulder Right\\ Mirror Left\\ Mirror Speedometer Radio Lap Forward Eyes\\ Closed Rearview  "
   ]
  },
  {
   "cell_type": "code",
   "execution_count": 37,
   "metadata": {},
   "outputs": [],
   "source": [
    "import os\n",
    "from glob import glob \n",
    "import shutil"
   ]
  },
  {
   "cell_type": "code",
   "execution_count": 25,
   "metadata": {},
   "outputs": [],
   "source": [
    "root = '/mnt/hdd/bowen/lisa/cabin_2.0/lisat_gaze_data/lisat_img_data_4_glasses/train_img'"
   ]
  },
  {
   "cell_type": "code",
   "execution_count": 26,
   "metadata": {},
   "outputs": [],
   "source": [
    "target = '/mnt/hdd/bowen/lisa/cabin_2.0/lisat_gaze_data/lisat_img_data_4_glasses/formatted_data'"
   ]
  },
  {
   "cell_type": "code",
   "execution_count": 30,
   "metadata": {},
   "outputs": [],
   "source": [
    "subjects = glob(root + \"/*\")\n",
    "conditions = ['no_day', 'no_night', 'with_day', 'with_night']"
   ]
  },
  {
   "cell_type": "code",
   "execution_count": 57,
   "metadata": {},
   "outputs": [
    {
     "data": {
      "text/plain": [
       "'/mnt/hdd/bowen/lisa/cabin_2.0/lisat_gaze_data/lisat_img_data_4_glasses/train_img/dhananjay/with_night/radio_with_night/gaze103768.jpg'"
      ]
     },
     "execution_count": 57,
     "metadata": {},
     "output_type": "execute_result"
    }
   ],
   "source": [
    "os.path.join(one_class_root, file_name)"
   ]
  },
  {
   "cell_type": "code",
   "execution_count": 58,
   "metadata": {},
   "outputs": [
    {
     "data": {
      "text/plain": [
       "'/mnt/hdd/bowen/lisa/cabin_2.0/lisat_gaze_data/lisat_img_data_4_glasses/formatted_data/with_night/Shoulder/gaze103768.jpg'"
      ]
     },
     "execution_count": 58,
     "metadata": {},
     "output_type": "execute_result"
    }
   ],
   "source": [
    "os.path.join(one_class_target,file_name)"
   ]
  },
  {
   "cell_type": "code",
   "execution_count": null,
   "metadata": {},
   "outputs": [],
   "source": [
    "shoulder_count = 0\n",
    "left_mirror_count =0\n",
    "forward_count = 0\n",
    "speedometer_count = 0\n",
    "lap_count = 0\n",
    "rearview_count = 0\n",
    "radio_count = 0\n",
    "right_mirror_count = 0\n",
    "eyes_closed_count = 0"
   ]
  },
  {
   "cell_type": "code",
   "execution_count": 59,
   "metadata": {},
   "outputs": [
    {
     "name": "stdout",
     "output_type": "stream",
     "text": [
      "one_class_root /mnt/hdd/bowen/lisa/cabin_2.0/lisat_gaze_data/lisat_img_data_4_glasses/train_img/hala/no_day/right_shoulder_no_day\n",
      "one_class_target /mnt/hdd/bowen/lisa/cabin_2.0/lisat_gaze_data/lisat_img_data_4_glasses/formatted_data/no_day/Shoulder\n",
      "one_class_root /mnt/hdd/bowen/lisa/cabin_2.0/lisat_gaze_data/lisat_img_data_4_glasses/train_img/hala/no_day/left_shoulder_no_day\n",
      "one_class_target /mnt/hdd/bowen/lisa/cabin_2.0/lisat_gaze_data/lisat_img_data_4_glasses/formatted_data/no_day/Shoulder\n",
      "one_class_root /mnt/hdd/bowen/lisa/cabin_2.0/lisat_gaze_data/lisat_img_data_4_glasses/train_img/hala/no_night/right_shoulder_no_night\n",
      "one_class_target /mnt/hdd/bowen/lisa/cabin_2.0/lisat_gaze_data/lisat_img_data_4_glasses/formatted_data/no_night/Shoulder\n",
      "one_class_root /mnt/hdd/bowen/lisa/cabin_2.0/lisat_gaze_data/lisat_img_data_4_glasses/train_img/hala/no_night/left_shoulder_no_night\n",
      "one_class_target /mnt/hdd/bowen/lisa/cabin_2.0/lisat_gaze_data/lisat_img_data_4_glasses/formatted_data/no_night/Shoulder\n",
      "one_class_root /mnt/hdd/bowen/lisa/cabin_2.0/lisat_gaze_data/lisat_img_data_4_glasses/train_img/hala/with_day/right_shoulder_with_day\n",
      "one_class_target /mnt/hdd/bowen/lisa/cabin_2.0/lisat_gaze_data/lisat_img_data_4_glasses/formatted_data/with_day/Shoulder\n",
      "one_class_root /mnt/hdd/bowen/lisa/cabin_2.0/lisat_gaze_data/lisat_img_data_4_glasses/train_img/hala/with_day/left_shoulder_with_day\n",
      "one_class_target /mnt/hdd/bowen/lisa/cabin_2.0/lisat_gaze_data/lisat_img_data_4_glasses/formatted_data/with_day/Shoulder\n",
      "one_class_root /mnt/hdd/bowen/lisa/cabin_2.0/lisat_gaze_data/lisat_img_data_4_glasses/train_img/hala/with_night/left_shoulder_with_night\n",
      "one_class_target /mnt/hdd/bowen/lisa/cabin_2.0/lisat_gaze_data/lisat_img_data_4_glasses/formatted_data/with_night/Shoulder\n",
      "one_class_root /mnt/hdd/bowen/lisa/cabin_2.0/lisat_gaze_data/lisat_img_data_4_glasses/train_img/hala/with_night/right_shoulder_with_night\n",
      "one_class_target /mnt/hdd/bowen/lisa/cabin_2.0/lisat_gaze_data/lisat_img_data_4_glasses/formatted_data/with_night/Shoulder\n",
      "one_class_root /mnt/hdd/bowen/lisa/cabin_2.0/lisat_gaze_data/lisat_img_data_4_glasses/train_img/bingze/no_day/right_shoulder_no_day\n",
      "one_class_target /mnt/hdd/bowen/lisa/cabin_2.0/lisat_gaze_data/lisat_img_data_4_glasses/formatted_data/no_day/Shoulder\n",
      "one_class_root /mnt/hdd/bowen/lisa/cabin_2.0/lisat_gaze_data/lisat_img_data_4_glasses/train_img/bingze/no_day/left_shoulder_no_day\n",
      "one_class_target /mnt/hdd/bowen/lisa/cabin_2.0/lisat_gaze_data/lisat_img_data_4_glasses/formatted_data/no_day/Shoulder\n",
      "one_class_root /mnt/hdd/bowen/lisa/cabin_2.0/lisat_gaze_data/lisat_img_data_4_glasses/train_img/bingze/no_night/right_shoulder_no_night\n",
      "one_class_target /mnt/hdd/bowen/lisa/cabin_2.0/lisat_gaze_data/lisat_img_data_4_glasses/formatted_data/no_night/Shoulder\n",
      "one_class_root /mnt/hdd/bowen/lisa/cabin_2.0/lisat_gaze_data/lisat_img_data_4_glasses/train_img/bingze/no_night/left_shoulder_no_night\n",
      "one_class_target /mnt/hdd/bowen/lisa/cabin_2.0/lisat_gaze_data/lisat_img_data_4_glasses/formatted_data/no_night/Shoulder\n",
      "one_class_root /mnt/hdd/bowen/lisa/cabin_2.0/lisat_gaze_data/lisat_img_data_4_glasses/train_img/bingze/with_day/right_shoulder_with_day\n",
      "one_class_target /mnt/hdd/bowen/lisa/cabin_2.0/lisat_gaze_data/lisat_img_data_4_glasses/formatted_data/with_day/Shoulder\n",
      "one_class_root /mnt/hdd/bowen/lisa/cabin_2.0/lisat_gaze_data/lisat_img_data_4_glasses/train_img/bingze/with_day/left_shoulder_with_day\n",
      "one_class_target /mnt/hdd/bowen/lisa/cabin_2.0/lisat_gaze_data/lisat_img_data_4_glasses/formatted_data/with_day/Shoulder\n",
      "one_class_root /mnt/hdd/bowen/lisa/cabin_2.0/lisat_gaze_data/lisat_img_data_4_glasses/train_img/bingze/with_night/left_shoulder_with_night_cor\n",
      "one_class_target /mnt/hdd/bowen/lisa/cabin_2.0/lisat_gaze_data/lisat_img_data_4_glasses/formatted_data/with_night/Shoulder\n",
      "one_class_root /mnt/hdd/bowen/lisa/cabin_2.0/lisat_gaze_data/lisat_img_data_4_glasses/train_img/bingze/with_night/right_shoulder_with_night\n",
      "one_class_target /mnt/hdd/bowen/lisa/cabin_2.0/lisat_gaze_data/lisat_img_data_4_glasses/formatted_data/with_night/Shoulder\n",
      "one_class_root /mnt/hdd/bowen/lisa/cabin_2.0/lisat_gaze_data/lisat_img_data_4_glasses/train_img/savitha/no_day/right_shoulder_no_day\n",
      "one_class_target /mnt/hdd/bowen/lisa/cabin_2.0/lisat_gaze_data/lisat_img_data_4_glasses/formatted_data/no_day/Shoulder\n",
      "one_class_root /mnt/hdd/bowen/lisa/cabin_2.0/lisat_gaze_data/lisat_img_data_4_glasses/train_img/savitha/no_night/right_shoulder_no_night\n",
      "one_class_target /mnt/hdd/bowen/lisa/cabin_2.0/lisat_gaze_data/lisat_img_data_4_glasses/formatted_data/no_night/Shoulder\n",
      "one_class_root /mnt/hdd/bowen/lisa/cabin_2.0/lisat_gaze_data/lisat_img_data_4_glasses/train_img/savitha/no_night/left_shoulder_no_night\n",
      "one_class_target /mnt/hdd/bowen/lisa/cabin_2.0/lisat_gaze_data/lisat_img_data_4_glasses/formatted_data/no_night/Shoulder\n",
      "one_class_root /mnt/hdd/bowen/lisa/cabin_2.0/lisat_gaze_data/lisat_img_data_4_glasses/train_img/savitha/with_day/right_shoulder_with_day\n",
      "one_class_target /mnt/hdd/bowen/lisa/cabin_2.0/lisat_gaze_data/lisat_img_data_4_glasses/formatted_data/with_day/Shoulder\n",
      "one_class_root /mnt/hdd/bowen/lisa/cabin_2.0/lisat_gaze_data/lisat_img_data_4_glasses/train_img/savitha/with_day/left_shoulder_with_day\n",
      "one_class_target /mnt/hdd/bowen/lisa/cabin_2.0/lisat_gaze_data/lisat_img_data_4_glasses/formatted_data/with_day/Shoulder\n",
      "one_class_root /mnt/hdd/bowen/lisa/cabin_2.0/lisat_gaze_data/lisat_img_data_4_glasses/train_img/savitha/with_day/left_shoulder_with_day_cor\n",
      "one_class_target /mnt/hdd/bowen/lisa/cabin_2.0/lisat_gaze_data/lisat_img_data_4_glasses/formatted_data/with_day/Shoulder\n",
      "one_class_root /mnt/hdd/bowen/lisa/cabin_2.0/lisat_gaze_data/lisat_img_data_4_glasses/train_img/savitha/with_night/left_shoulder_with_night\n",
      "one_class_target /mnt/hdd/bowen/lisa/cabin_2.0/lisat_gaze_data/lisat_img_data_4_glasses/formatted_data/with_night/Shoulder\n",
      "one_class_root /mnt/hdd/bowen/lisa/cabin_2.0/lisat_gaze_data/lisat_img_data_4_glasses/train_img/savitha/with_night/right_shoulder_with_night\n",
      "one_class_target /mnt/hdd/bowen/lisa/cabin_2.0/lisat_gaze_data/lisat_img_data_4_glasses/formatted_data/with_night/Shoulder\n",
      "one_class_root /mnt/hdd/bowen/lisa/cabin_2.0/lisat_gaze_data/lisat_img_data_4_glasses/train_img/mia/no_day/right_shoulder_no_day\n",
      "one_class_target /mnt/hdd/bowen/lisa/cabin_2.0/lisat_gaze_data/lisat_img_data_4_glasses/formatted_data/no_day/Shoulder\n",
      "one_class_root /mnt/hdd/bowen/lisa/cabin_2.0/lisat_gaze_data/lisat_img_data_4_glasses/train_img/mia/no_day/left_shoulder_no_day\n",
      "one_class_target /mnt/hdd/bowen/lisa/cabin_2.0/lisat_gaze_data/lisat_img_data_4_glasses/formatted_data/no_day/Shoulder\n",
      "one_class_root /mnt/hdd/bowen/lisa/cabin_2.0/lisat_gaze_data/lisat_img_data_4_glasses/train_img/mia/no_night/right_shoulder_no_night\n",
      "one_class_target /mnt/hdd/bowen/lisa/cabin_2.0/lisat_gaze_data/lisat_img_data_4_glasses/formatted_data/no_night/Shoulder\n",
      "one_class_root /mnt/hdd/bowen/lisa/cabin_2.0/lisat_gaze_data/lisat_img_data_4_glasses/train_img/mia/with_day/right_shoulder_with_day\n",
      "one_class_target /mnt/hdd/bowen/lisa/cabin_2.0/lisat_gaze_data/lisat_img_data_4_glasses/formatted_data/with_day/Shoulder\n",
      "one_class_root /mnt/hdd/bowen/lisa/cabin_2.0/lisat_gaze_data/lisat_img_data_4_glasses/train_img/mia/with_day/left_shoulder_with_day\n",
      "one_class_target /mnt/hdd/bowen/lisa/cabin_2.0/lisat_gaze_data/lisat_img_data_4_glasses/formatted_data/with_day/Shoulder\n",
      "one_class_root /mnt/hdd/bowen/lisa/cabin_2.0/lisat_gaze_data/lisat_img_data_4_glasses/train_img/mia/with_night/left_shoulder_with_night\n",
      "one_class_target /mnt/hdd/bowen/lisa/cabin_2.0/lisat_gaze_data/lisat_img_data_4_glasses/formatted_data/with_night/Shoulder\n",
      "one_class_root /mnt/hdd/bowen/lisa/cabin_2.0/lisat_gaze_data/lisat_img_data_4_glasses/train_img/mia/with_night/right_shoulder_with_night\n",
      "one_class_target /mnt/hdd/bowen/lisa/cabin_2.0/lisat_gaze_data/lisat_img_data_4_glasses/formatted_data/with_night/Shoulder\n",
      "one_class_root /mnt/hdd/bowen/lisa/cabin_2.0/lisat_gaze_data/lisat_img_data_4_glasses/train_img/dhananjay/no_day/right_shoulder_no_day\n",
      "one_class_target /mnt/hdd/bowen/lisa/cabin_2.0/lisat_gaze_data/lisat_img_data_4_glasses/formatted_data/no_day/Shoulder\n",
      "one_class_root /mnt/hdd/bowen/lisa/cabin_2.0/lisat_gaze_data/lisat_img_data_4_glasses/train_img/dhananjay/no_day/left_shoulder_no_day\n",
      "one_class_target /mnt/hdd/bowen/lisa/cabin_2.0/lisat_gaze_data/lisat_img_data_4_glasses/formatted_data/no_day/Shoulder\n"
     ]
    },
    {
     "name": "stdout",
     "output_type": "stream",
     "text": [
      "one_class_root /mnt/hdd/bowen/lisa/cabin_2.0/lisat_gaze_data/lisat_img_data_4_glasses/train_img/dhananjay/no_night/right_shoulder_no_night\n",
      "one_class_target /mnt/hdd/bowen/lisa/cabin_2.0/lisat_gaze_data/lisat_img_data_4_glasses/formatted_data/no_night/Shoulder\n",
      "one_class_root /mnt/hdd/bowen/lisa/cabin_2.0/lisat_gaze_data/lisat_img_data_4_glasses/train_img/dhananjay/no_night/left_shoulder_no_night\n",
      "one_class_target /mnt/hdd/bowen/lisa/cabin_2.0/lisat_gaze_data/lisat_img_data_4_glasses/formatted_data/no_night/Shoulder\n",
      "one_class_root /mnt/hdd/bowen/lisa/cabin_2.0/lisat_gaze_data/lisat_img_data_4_glasses/train_img/dhananjay/with_day/right_shoulder_with_day\n",
      "one_class_target /mnt/hdd/bowen/lisa/cabin_2.0/lisat_gaze_data/lisat_img_data_4_glasses/formatted_data/with_day/Shoulder\n",
      "one_class_root /mnt/hdd/bowen/lisa/cabin_2.0/lisat_gaze_data/lisat_img_data_4_glasses/train_img/dhananjay/with_day/left_shoulder_with_day\n",
      "one_class_target /mnt/hdd/bowen/lisa/cabin_2.0/lisat_gaze_data/lisat_img_data_4_glasses/formatted_data/with_day/Shoulder\n",
      "one_class_root /mnt/hdd/bowen/lisa/cabin_2.0/lisat_gaze_data/lisat_img_data_4_glasses/train_img/dhananjay/with_night/left_shoulder_with_night\n",
      "one_class_target /mnt/hdd/bowen/lisa/cabin_2.0/lisat_gaze_data/lisat_img_data_4_glasses/formatted_data/with_night/Shoulder\n",
      "one_class_root /mnt/hdd/bowen/lisa/cabin_2.0/lisat_gaze_data/lisat_img_data_4_glasses/train_img/dhananjay/with_night/right_shoulder_with_night\n",
      "one_class_target /mnt/hdd/bowen/lisa/cabin_2.0/lisat_gaze_data/lisat_img_data_4_glasses/formatted_data/with_night/Shoulder\n"
     ]
    }
   ],
   "source": [
    "for one_subject in subjects:\n",
    "#     print(one_subject)\n",
    "    for one_condition in conditions:\n",
    "        condition_root = os.path.join(one_subject, one_condition) # \n",
    "        condition_target = os.path.join(target, one_condition)\n",
    "        \n",
    "        class_roots = glob(os.path.join(condition_root,'*'))\n",
    "        for one_class_root in class_roots: \n",
    "            if 'shoulder' in one_class_root:\n",
    "                one_class_target = os.path.join(condition_target, 'Shoulder')\n",
    "                print('one_class_root', one_class_root)\n",
    "                print('one_class_target', one_class_target)\n",
    "                for file_name in os.listdir(one_class_root):\n",
    "                    shutil.copyfile(os.path.join(one_class_root, file_name), os.path.join(one_class_target,file_name))\n",
    "                    shoulder_count+=1\n",
    "            if 'left_mirror' in one_class_root:\n",
    "                one_class_target = os.path.join(condition_target, 'Left Mirror')\n",
    "                print('one_class_root', one_class_root)\n",
    "                print('one_class_target', one_class_target)\n",
    "                for file_name in os.listdir(one_class_root):\n",
    "                    shutil.copyfile(os.path.join(one_class_root, file_name), os.path.join(one_class_target,file_name))\n",
    "                    left_mirror_count+=1\n",
    "                    \n",
    "            if 'forward' in one_class_root:\n",
    "                one_class_target = os.path.join(condition_target, 'Forward')\n",
    "                print('one_class_root', one_class_root)\n",
    "                print('one_class_target', one_class_target)\n",
    "                for file_name in os.listdir(one_class_root):\n",
    "                    shutil.copyfile(os.path.join(one_class_root, file_name), os.path.join(one_class_target,file_name))\n",
    "                    forward_count+=1\n",
    "                    \n",
    "            if 'speedometer' in one_class_root:\n",
    "                one_class_target = os.path.join(condition_target, 'Speedometer')\n",
    "                print('one_class_root', one_class_root)\n",
    "                print('one_class_target', one_class_target)\n",
    "                for file_name in os.listdir(one_class_root):\n",
    "                    shutil.copyfile(os.path.join(one_class_root, file_name), os.path.join(one_class_target,file_name))\n",
    "                    speedometer_count+=1\n",
    "                    \n",
    "            if 'lap' in one_class_root:\n",
    "                one_class_target = os.path.join(condition_target, 'Lap')\n",
    "                print('one_class_root', one_class_root)\n",
    "                print('one_class_target', one_class_target)\n",
    "                for file_name in os.listdir(one_class_root):\n",
    "                    shutil.copyfile(os.path.join(one_class_root, file_name), os.path.join(one_class_target,file_name))\n",
    "                    lap_count+=1\n",
    "                    \n",
    "            if 'rearview' in one_class_root:\n",
    "                one_class_target = os.path.join(condition_target, 'Rearview')\n",
    "                print('one_class_root', one_class_root)\n",
    "                print('one_class_target', one_class_target)\n",
    "                for file_name in os.listdir(one_class_root):\n",
    "                    shutil.copyfile(os.path.join(one_class_root, file_name), os.path.join(one_class_target,file_name))\n",
    "                    rearview_count+=1\n",
    "                    \n",
    "            if 'radio' in one_class_root:\n",
    "                one_class_target = os.path.join(condition_target, 'Radio')\n",
    "                print('one_class_root', one_class_root)\n",
    "                print('one_class_target', one_class_target)\n",
    "                for file_name in os.listdir(one_class_root):\n",
    "                    shutil.copyfile(os.path.join(one_class_root, file_name), os.path.join(one_class_target,file_name))\n",
    "                    radio_count+=1\n",
    "                    \n",
    "            if 'right_mirror' in one_class_root:\n",
    "                one_class_target = os.path.join(condition_target, 'Right Mirror')\n",
    "                print('one_class_root', one_class_root)\n",
    "                print('one_class_target', one_class_target)\n",
    "                for file_name in os.listdir(one_class_root):\n",
    "                    shutil.copyfile(os.path.join(one_class_root, file_name), os.path.join(one_class_target,file_name))\n",
    "                    right_mirror_count+=1\n",
    "                    \n",
    "            if 'eyes' in one_class_root:\n",
    "                one_class_target = os.path.join(condition_target, 'Eyes Closed')\n",
    "                print('one_class_root', one_class_root)\n",
    "                print('one_class_target', one_class_target)\n",
    "                for file_name in os.listdir(one_class_root):\n",
    "                    shutil.copyfile(os.path.join(one_class_root, file_name), os.path.join(one_class_target,file_name))\n",
    "                    eyes_closed_count+=1\n",
    "            else:\n",
    "                print('not found')\n",
    "                print(one_class_root)"
   ]
  },
  {
   "cell_type": "code",
   "execution_count": 45,
   "metadata": {},
   "outputs": [
    {
     "data": {
      "text/plain": [
       "['copy_files_and_mean_std.ipynb',\n",
       " 'transfer_caffe_to_pytorch',\n",
       " 'drawing_board.py',\n",
       " 'README.md',\n",
       " 'write_image_number_to_folder_pair.py',\n",
       " '.git',\n",
       " 'merge_images.py',\n",
       " 'transfer_data_structure.ipynb',\n",
       " 'img_dataset_sampling.py',\n",
       " 'random_move_files.py',\n",
       " '.ipynb_checkpoints']"
      ]
     },
     "execution_count": 45,
     "metadata": {},
     "output_type": "execute_result"
    }
   ],
   "source": [
    "os.listdir('.')"
   ]
  },
  {
   "cell_type": "code",
   "execution_count": null,
   "metadata": {},
   "outputs": [],
   "source": []
  }
 ],
 "metadata": {
  "kernelspec": {
   "display_name": "Python 3",
   "language": "python",
   "name": "python3"
  },
  "language_info": {
   "codemirror_mode": {
    "name": "ipython",
    "version": 3
   },
   "file_extension": ".py",
   "mimetype": "text/x-python",
   "name": "python",
   "nbconvert_exporter": "python",
   "pygments_lexer": "ipython3",
   "version": "3.7.3"
  }
 },
 "nbformat": 4,
 "nbformat_minor": 2
}
